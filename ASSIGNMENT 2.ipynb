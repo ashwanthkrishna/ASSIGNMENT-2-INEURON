{
 "cells": [
  {
   "cell_type": "markdown",
   "metadata": {},
   "source": [
    "1.1 Write a Python Program to implement your own myreduce() function which works exactly like Python's built-in function reduce()"
   ]
  },
  {
   "cell_type": "code",
   "execution_count": null,
   "metadata": {},
   "outputs": [],
   "source": [
    "def do_sum(x1, x2): \n",
    "    return x1 + x2\n",
    "\n",
    "def my_reduce(func, seq):\n",
    "    first = 0\n",
    "    for i in seq[0:]:\n",
    "        first = func(first, i)\n",
    "    return first\n",
    "           \n",
    "\n",
    "print(my_reduce(do_sum, [1, 2, 3, 4,5,6]))"
   ]
  },
  {
   "cell_type": "markdown",
   "metadata": {},
   "source": [
    "1.2 Write a Python program to implement your own myfilter() function which works exactly like Python's built-in function filter()"
   ]
  },
  {
   "cell_type": "code",
   "execution_count": null,
   "metadata": {},
   "outputs": [],
   "source": [
    "numbers = [1,2,3,4,5,6,7,8,9,11,12,13,14,15,16,17,18,19,20]\n",
    "\n",
    "# function that filters odd numbers\n",
    "def filteroddnumbers(numbers):\n",
    "    if numbers%2!=0:\n",
    "        return True\n",
    "    else:\n",
    "        return False\n",
    "def myfilter(func,sequence):\n",
    "    res=[]\n",
    "    for oddnumber in sequence :\n",
    "        if func(oddnumber):\n",
    "            res.append(oddnumber)\n",
    "    return res\n",
    "\n",
    "filteredoddnumbers = myfilter(filteroddnumbers, numbers)\n",
    "\n",
    "print('The filtered vowels are:')\n",
    "for vowel in filteredoddnumbers:\n",
    "    print(vowel)"
   ]
  },
  {
   "cell_type": "markdown",
   "metadata": {},
   "source": [
    "1.3 Write List comprehensions to produce the following Lists"
   ]
  },
  {
   "cell_type": "code",
   "execution_count": 3,
   "metadata": {},
   "outputs": [
    {
     "name": "stdout",
     "output_type": "stream",
     "text": [
      "['A', 'C', 'A', 'D', 'G', 'I', 'L', 'D']\n"
     ]
    }
   ],
   "source": [
    "# ['A', 'C', 'A', 'D', 'G', 'I', ’L’, ‘ D’]\n",
    "# ['x', 'xx', 'xxx', 'xxxx', 'y', 'yy', 'yyy', 'yyyy', 'z', 'zz', 'zzz', 'zzzz']\n",
    "# ['x', 'y', 'z', 'xx', 'yy', 'zz', 'xx', 'yy', 'zz', 'xxxx', 'yyyy', 'zzzz']\n",
    "# [[2], [3], [4], [3], [4], [5], [4], [5], [6]]\n",
    "# [[2, 3, 4, 5], [3, 4, 5, 6], [4, 5, 6, 7], [5, 6, 7, 8]]\n",
    "# [(1, 1), (2, 1), (3, 1), (1, 2), (2, 2), (3, 2), (1, 3), (2, 3), (3, 3)]\n",
    "\n",
    "letters = \"ACADGILD\"\n",
    "j = 0\n",
    "for i in letters:\n",
    "    j = j+1 \n",
    "    if(i == letters[-1]):\n",
    "        res =(letters[j:len(letters)])\n",
    "        if i not in res:\n",
    "            print(list(letters))\n",
    "    else:\n",
    "         continue"
   ]
  },
  {
   "cell_type": "code",
   "execution_count": 4,
   "metadata": {},
   "outputs": [
    {
     "name": "stdout",
     "output_type": "stream",
     "text": [
      "['x', 'xx', 'xxx', 'xxxx', 'y', 'yy', 'yyy', 'yyyy', 'z', 'zz', 'zzz', 'zzzz']\n"
     ]
    }
   ],
   "source": [
    "data = ['x','y','z']\n",
    "result = [ item*num for item in data for num in range(1,5)  ]\n",
    "print(result)"
   ]
  },
  {
   "cell_type": "code",
   "execution_count": 5,
   "metadata": {},
   "outputs": [
    {
     "name": "stdout",
     "output_type": "stream",
     "text": [
      "['x','y','z'] => ['x', 'y', 'z', 'xx', 'yy', 'zz', 'xxx', 'yyy', 'zzz', 'xxxx', 'yyyy', 'zzzz']\n"
     ]
    }
   ],
   "source": [
    "data = ['x','y','z']\n",
    "result = [ item*num for num in range(1,5) for item in data  ]\n",
    "print(\"['x','y','z'] => \" +   str(result))"
   ]
  },
  {
   "cell_type": "code",
   "execution_count": 6,
   "metadata": {},
   "outputs": [
    {
     "name": "stdout",
     "output_type": "stream",
     "text": [
      "[2,3,4] =>[[2], [3], [4], [3], [4], [5], [4], [5], [6]]\n"
     ]
    }
   ],
   "source": [
    "data = [2,3,4]\n",
    "result = [ [item+num] for item in data for num in range(0,3)]\n",
    "print(\"[2,3,4] =>\" +  str(result))"
   ]
  },
  {
   "cell_type": "code",
   "execution_count": 7,
   "metadata": {},
   "outputs": [
    {
     "name": "stdout",
     "output_type": "stream",
     "text": [
      "[2,3,4,5] =>[[2, 3, 4, 5], [3, 4, 5, 6], [4, 5, 6, 7], [5, 6, 7, 8]]\n"
     ]
    }
   ],
   "source": [
    "data = [2,3,4,5]\n",
    "result = [ [item+num for item in data] for num in range(0,4)  ]\n",
    "print(\"[2,3,4,5] =>\" +  str(result))"
   ]
  },
  {
   "cell_type": "code",
   "execution_count": 3,
   "metadata": {},
   "outputs": [
    {
     "name": "stdout",
     "output_type": "stream",
     "text": [
      "[1,2,3] =>[(1, 1), (2, 1), (3, 1), (1, 2), (2, 2), (3, 2), (1, 3), (2, 3), (3, 3)]\n"
     ]
    }
   ],
   "source": [
    "data=[1,2,3]\n",
    "data2=[1,2,3]\n",
    "result = [ (b,a) for a in data for b in data2]\n",
    "print(\"[1,2,3] =>\" +  str(result))"
   ]
  },
  {
   "cell_type": "markdown",
   "metadata": {},
   "source": [
    "1.4 Implement a function longestWord() that takes a list of words and returns the longest one.¶"
   ]
  },
  {
   "cell_type": "code",
   "execution_count": 4,
   "metadata": {},
   "outputs": [
    {
     "name": "stdout",
     "output_type": "stream",
     "text": [
      "collections\n"
     ]
    }
   ],
   "source": [
    "def find_longest_word(words_list):\n",
    "    word_len = []\n",
    "    for n in words_list:\n",
    "        word_len.append((len(n), n))\n",
    "    word_len.sort()\n",
    "    return word_len[-1][1]\n",
    "\n",
    "print(find_longest_word([\"Learning\", \"list\", \"and\",\"collections\"]))"
   ]
  },
  {
   "cell_type": "markdown",
   "metadata": {},
   "source": [
    "1.1 Write a Python Program(with class concepts) to find the area of the triangle using the below"
   ]
  },
  {
   "cell_type": "code",
   "execution_count": 7,
   "metadata": {},
   "outputs": [
    {
     "name": "stdout",
     "output_type": "stream",
     "text": [
      "Enter first side :6\n",
      "Enter second side :7\n",
      "Enter third side :8\n",
      "The area of the triangle is 20.33\n"
     ]
    }
   ],
   "source": [
    "# Python Program to find the area of triangle\n",
    "\n",
    "a = float(input(\"Enter first side :\"))\n",
    "b = float(input(\"Enter second side :\"))\n",
    "c = float(input(\"Enter third side :\"))\n",
    "\n",
    "# Uncomment below to take inputs from the user\n",
    "\n",
    "# calculate the semi-perimeter\n",
    "s = (a + b + c) / 2\n",
    "\n",
    "# calculate the area\n",
    "area = (s*(s-a)*(s-b)*(s-c)) ** 0.5\n",
    "print('The area of the triangle is %0.2f' %area)"
   ]
  },
  {
   "cell_type": "markdown",
   "metadata": {},
   "source": [
    "1.2 Write a function filter_long_words() that takes a list of words and an integer n and returns the list of words that are longer than n"
   ]
  },
  {
   "cell_type": "code",
   "execution_count": 8,
   "metadata": {},
   "outputs": [
    {
     "name": "stdout",
     "output_type": "stream",
     "text": [
      "['learning', 'list', 'collections', 'from', 'ineuron']\n"
     ]
    }
   ],
   "source": [
    "def long_words(n, str):  \n",
    "    word_len = []  \n",
    "    txt = str.split(\" \")  \n",
    "    for x in txt:  \n",
    "        if len(x) > n:  \n",
    "            word_len.append(x)  \n",
    "    return word_len   \n",
    "print(long_words(3, \"learning list and collections from ineuron\"))"
   ]
  },
  {
   "cell_type": "markdown",
   "metadata": {},
   "source": [
    "1.3 Write a Python program using function concept that maps list of words into a list of integers representing the lengths of the corresponding words."
   ]
  },
  {
   "cell_type": "code",
   "execution_count": 9,
   "metadata": {},
   "outputs": [
    {
     "name": "stdout",
     "output_type": "stream",
     "text": [
      "word lengths in array => [8, 4, 3, 11, 4, 7]\n"
     ]
    }
   ],
   "source": [
    "content = [\"learning\", \"list\", \"and\", \"collections\", \"from\",\"ineuron\"]\n",
    "\n",
    "def wordlength(content):\n",
    "    return list(map(lambda x: len(x), content))\n",
    "\n",
    "print (\"word lengths in array => \" + str(wordlength(content)))"
   ]
  },
  {
   "cell_type": "markdown",
   "metadata": {},
   "source": [
    "1.4 Write a Python function which takes a character (i.e. a string of length 1) and returns True if it is a vowel, False otherwise"
   ]
  },
  {
   "cell_type": "code",
   "execution_count": 12,
   "metadata": {},
   "outputs": [
    {
     "name": "stdout",
     "output_type": "stream",
     "text": [
      "Enter Your Characters\n",
      "ASHWANTh\n",
      "True\n"
     ]
    }
   ],
   "source": [
    "user_input = input('Enter Your Characters\\n')[0]\n",
    "user_input = user_input.upper()\n",
    "vowel = \"AEIOU\"\n",
    "if user_input in vowel:\n",
    "    print(\"True\")\n",
    "else:\n",
    "    print(\"False\")"
   ]
  },
  {
   "cell_type": "code",
   "execution_count": null,
   "metadata": {},
   "outputs": [],
   "source": []
  }
 ],
 "metadata": {
  "kernelspec": {
   "display_name": "Python 3",
   "language": "python",
   "name": "python3"
  },
  "language_info": {
   "codemirror_mode": {
    "name": "ipython",
    "version": 3
   },
   "file_extension": ".py",
   "mimetype": "text/x-python",
   "name": "python",
   "nbconvert_exporter": "python",
   "pygments_lexer": "ipython3",
   "version": "3.7.6"
  }
 },
 "nbformat": 4,
 "nbformat_minor": 4
}
